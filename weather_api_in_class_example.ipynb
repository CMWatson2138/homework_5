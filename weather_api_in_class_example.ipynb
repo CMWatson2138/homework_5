{
 "cells": [
  {
   "cell_type": "code",
   "execution_count": 23,
   "metadata": {},
   "outputs": [],
   "source": [
    "from api_keys import api_key"
   ]
  },
  {
   "cell_type": "code",
   "execution_count": 3,
   "metadata": {},
   "outputs": [],
   "source": [
    "#display(api_key)"
   ]
  },
  {
   "cell_type": "code",
   "execution_count": 24,
   "metadata": {},
   "outputs": [],
   "source": [
    "import requests\n",
    "import json\n",
    "import pandas as pd"
   ]
  },
  {
   "cell_type": "code",
   "execution_count": 5,
   "metadata": {},
   "outputs": [
    {
     "name": "stdout",
     "output_type": "stream",
     "text": [
      "{\"coord\":{\"lon\":-90.4001,\"lat\":38.6334},\"weather\":[{\"id\":800,\"main\":\"Clear\",\"description\":\"clear sky\",\"icon\":\"01d\"}],\"base\":\"stations\",\"main\":{\"temp\":64.17,\"feels_like\":61.79,\"temp_min\":63,\"temp_max\":66,\"pressure\":1025,\"humidity\":32},\"visibility\":10000,\"wind\":{\"speed\":12.66,\"deg\":210},\"clouds\":{\"all\":1},\"dt\":1617469905,\"sys\":{\"type\":1,\"id\":5931,\"country\":\"US\",\"sunrise\":1617450162,\"sunset\":1617495989},\"timezone\":-18000,\"id\":4407074,\"name\":\"Saint Louis\",\"cod\":200}\n"
     ]
    }
   ],
   "source": [
    "base_url = \"https://api.openweathermap.org/data/2.5/weather?units=Imperial&appid=\" + api_key\n",
    "city = \"saint louis\"\n",
    "full_request = base_url + '&q='+city\n",
    "req = requests.get(full_request)\n",
    "print(req.text)"
   ]
  },
  {
   "cell_type": "code",
   "execution_count": 6,
   "metadata": {},
   "outputs": [
    {
     "data": {
      "text/plain": [
       "{'coord': {'lon': -90.4001, 'lat': 38.6334},\n",
       " 'weather': [{'id': 800,\n",
       "   'main': 'Clear',\n",
       "   'description': 'clear sky',\n",
       "   'icon': '01d'}],\n",
       " 'base': 'stations',\n",
       " 'main': {'temp': 64.17,\n",
       "  'feels_like': 61.79,\n",
       "  'temp_min': 63,\n",
       "  'temp_max': 66,\n",
       "  'pressure': 1025,\n",
       "  'humidity': 32},\n",
       " 'visibility': 10000,\n",
       " 'wind': {'speed': 12.66, 'deg': 210},\n",
       " 'clouds': {'all': 1},\n",
       " 'dt': 1617469905,\n",
       " 'sys': {'type': 1,\n",
       "  'id': 5931,\n",
       "  'country': 'US',\n",
       "  'sunrise': 1617450162,\n",
       "  'sunset': 1617495989},\n",
       " 'timezone': -18000,\n",
       " 'id': 4407074,\n",
       " 'name': 'Saint Louis',\n",
       " 'cod': 200}"
      ]
     },
     "execution_count": 6,
     "metadata": {},
     "output_type": "execute_result"
    }
   ],
   "source": [
    "weather_data=req.json()\n",
    "weather_data\n"
   ]
  },
  {
   "cell_type": "code",
   "execution_count": 7,
   "metadata": {},
   "outputs": [
    {
     "data": {
      "text/plain": [
       "64.17"
      ]
     },
     "execution_count": 7,
     "metadata": {},
     "output_type": "execute_result"
    }
   ],
   "source": [
    "weather_data['main']['temp']"
   ]
  },
  {
   "cell_type": "code",
   "execution_count": 8,
   "metadata": {},
   "outputs": [
    {
     "data": {
      "text/plain": [
       "12.66"
      ]
     },
     "execution_count": 8,
     "metadata": {},
     "output_type": "execute_result"
    }
   ],
   "source": [
    "weather_data['wind']['speed']"
   ]
  },
  {
   "cell_type": "code",
   "execution_count": 14,
   "metadata": {},
   "outputs": [
    {
     "ename": "SyntaxError",
     "evalue": "unexpected EOF while parsing (<ipython-input-14-6eea2d2936d0>, line 13)",
     "output_type": "error",
     "traceback": [
      "\u001b[1;36m  File \u001b[1;32m\"<ipython-input-14-6eea2d2936d0>\"\u001b[1;36m, line \u001b[1;32m13\u001b[0m\n\u001b[1;33m    \u001b[0m\n\u001b[1;37m    ^\u001b[0m\n\u001b[1;31mSyntaxError\u001b[0m\u001b[1;31m:\u001b[0m unexpected EOF while parsing\n"
     ]
    }
   ],
   "source": [
    "#base_url = \"https://api.openweathermap.org/data/2.5/weather?units=Imperial&appid=\" + api_key\n",
    "#cities =['noumea', 'pine hills', 'mayumba', 'mar del plata', 'souillac']\n",
    "cities_df=pd.DataFrame(cities, columns=\"City_Name\")\n",
    "cities_df\n",
    "full_request = base_url + '&q='+ city\n",
    "\n",
    "for city in enumerate(cities):\n",
    "    try:\n",
    "        full_request = base_url + f'&q='+ city\n",
    "        req = requests.get(full_request)\n",
    "        #req = requests.get(base_url +'&q='+ {cities[]}).json()\n",
    "        print(req.text)\n",
    "     "
   ]
  },
  {
   "cell_type": "code",
   "execution_count": 39,
   "metadata": {},
   "outputs": [
    {
     "name": "stdout",
     "output_type": "stream",
     "text": [
      "{'coord': {'lon': -90.1979, 'lat': 38.6273}, 'weather': [{'id': 800, 'main': 'Clear', 'description': 'clear sky', 'icon': '01d'}], 'base': 'stations', 'main': {'temp': 67.12, 'feels_like': 64.94, 'temp_min': 64.99, 'temp_max': 69.01, 'pressure': 1024, 'humidity': 30}, 'visibility': 10000, 'wind': {'speed': 4, 'deg': 304, 'gust': 13}, 'clouds': {'all': 0}, 'dt': 1617472461, 'sys': {'type': 3, 'id': 2012842, 'country': 'US', 'sunrise': 1617450113, 'sunset': 1617495940}, 'timezone': -18000, 'id': 4407066, 'name': 'St Louis', 'cod': 200}\n",
      "City not found. Skipping...\n",
      "City not found. Skipping...\n",
      "City not found. Skipping...\n",
      "City not found. Skipping...\n",
      "City not found. Skipping...\n"
     ]
    }
   ],
   "source": [
    "# OpenWeatherMap API Key\n",
    "#api_key = api_keys.api_key\n",
    "from api_keys import api_key\n",
    "# base url for getting api data\n",
    "base_url = \"http://api.openweathermap.org/data/2.5/weather?units=Imperial&APPID=\" + api_key\n",
    "\n",
    "# example request\n",
    "req = requests.get(base_url + f'&q={cities[0]}').json()\n",
    "print(req)\n",
    "# Your code here. A loop maybe? \n",
    "#NOTE: API calls can be slow. They can also be limited. Once you have a list try not to rerun all API calls very often. \n",
    "city_name=[]\n",
    "cloudiness=[]\n",
    "country=[]\n",
    "date=[]\n",
    "humidity=[]\n",
    "lat=[]\n",
    "lng=[]\n",
    "max_temp=[]\n",
    "wind_speed=[]\n",
    "index_counter=0\n",
    "set_counter=1\n",
    "cities =['st. louis', 'phoenix', 'chicago', 'mar del plata', 'souillac']\n",
    "#for index, city in enumerate(cities):\n",
    "    #req=requests.get(base_url + f'&q={cities[0]})').json()\n",
    "\n",
    "for index, city in enumerate(cities, start = 1):\n",
    "    try:\n",
    "        response = requests.get(base_url + city).json()\n",
    "        city_name.append(response['sys'][\"name\"])\n",
    "        cloudiness.append(response[\"clouds\"][\"all\"])\n",
    "        country.append(response[\"sys\"][\"country\"])\n",
    "        date.append(response[\"dt\"])\n",
    "        humidity.append(response[\"main\"][\"humidity\"])\n",
    "        lat.append(response[\"coord\"][\"lat\"])\n",
    "        lng.append(response[\"coord\"][\"lon\"])\n",
    "        max_temp.append(response['main']['temp_max'])\n",
    "        wind_speed.append(response[\"wind\"][\"speed\"])\n",
    "        if index_counter > 49:\n",
    "            index_counter = 0\n",
    "            set_counter = set_counter + 1\n",
    "        \n",
    "        else:\n",
    "            index_counter = index_counter + 1\n",
    "        \n",
    "        print(f\"Processing Record {index_counter} of Set {set_counter} : {city}\")\n",
    "        \n",
    "    except(KeyError, IndexError):\n",
    "        print(\"City not found. Skipping...\")\n",
    "        "
   ]
  },
  {
   "cell_type": "code",
   "execution_count": null,
   "metadata": {},
   "outputs": [],
   "source": []
  }
 ],
 "metadata": {
  "kernelspec": {
   "display_name": "Python 3",
   "language": "python",
   "name": "python3"
  },
  "language_info": {
   "codemirror_mode": {
    "name": "ipython",
    "version": 3
   },
   "file_extension": ".py",
   "mimetype": "text/x-python",
   "name": "python",
   "nbconvert_exporter": "python",
   "pygments_lexer": "ipython3",
   "version": "3.8.5"
  }
 },
 "nbformat": 4,
 "nbformat_minor": 4
}
